{
 "cells": [
  {
   "cell_type": "code",
   "execution_count": 4,
   "id": "0750fc9a",
   "metadata": {},
   "outputs": [],
   "source": [
    "%load_ext autoreload\n",
    "%autoreload 2\n",
    "%matplotlib inline\n",
    "\n",
    "import pandas as pd\n",
    "import numpy as np\n",
    "import sys\n",
    "import matplotlib.pyplot as plt\n",
    "\n",
    "sys.path.append(\"helpers\")\n",
    "from helpers import LORIS_data_preparation"
   ]
  },
  {
   "cell_type": "code",
   "execution_count": 5,
   "id": "46e10627",
   "metadata": {},
   "outputs": [],
   "source": [
    "# LORIS saved query (all data)\n",
    "full = pd.read_csv(\"../../diagnosis_predictor/data/raw/LORIS-release-10.csv\", dtype=object)"
   ]
  },
  {
   "cell_type": "code",
   "execution_count": 6,
   "id": "d2df227e",
   "metadata": {},
   "outputs": [
    {
     "name": "stderr",
     "output_type": "stream",
     "text": [
      "/Users/home/Repos/hbn/HBN-scripts/exploration/helpers/LORIS_data_preparation.py:30: SettingWithCopyWarning: \n",
      "A value is trying to be set on a copy of a slice from a DataFrame.\n",
      "Try using .loc[row_indexer,col_indexer] = value instead\n",
      "\n",
      "See the caveats in the documentation: https://pandas.pydata.org/pandas-docs/stable/user_guide/indexing.html#returning-a-view-versus-a-copy\n",
      "  full[\"ID\"] = full_for_EID_check.iloc[:, 0]\n"
     ]
    }
   ],
   "source": [
    "data = LORIS_data_preparation.prepare_data(full)"
   ]
  },
  {
   "cell_type": "code",
   "execution_count": 48,
   "id": "abe8f76c",
   "metadata": {},
   "outputs": [],
   "source": [
    "vci = \"WISC,WISC_VCI\"\n",
    "vsi = \"WISC,WISC_VSI\"\n",
    "assq = \"ASSQ,ASSQ_Total\"\n",
    "word = \"WIAT,WIAT_Word_P\"\n",
    "cbcl = \"CBCL,CBCL_SP_T\"\n",
    "num = \"WIAT,WIAT_Num_P\"\n",
    "flanker = \"NIH_Scores,NIH7_Flanker_P\"\n",
    "card = \"NIH_Scores,NIH7_Card_P\"\n",
    "cols = [vci, vsi, assq, word, cbcl, num, flanker, card]\n",
    "for col in cols:\n",
    "    data[col] = data[col].astype(float)\n",
    "    \n",
    "# Step 1\n",
    "spacial_condition = (data[vci] - data[vsi]) > 15 \n",
    "reading_condition = data[word] >= 16\n",
    "step_1_condition = spacial_condition & reading_condition\n",
    "\n",
    "# Step 2\n",
    "EF_condition = (data[flanker] < 16) | (data[card] < 16)\n",
    "social_condition = (data[cbcl] >= 70)\n",
    "math_condition = (data[num] <= 16)\n",
    "step2_condition = (social_condition.astype(int) + math_condition.astype(int) + EF_condition.astype(int)) >= 2\n",
    "\n",
    "# Step 3\n",
    "asd_condition = data[assq] < 19\n",
    "step_3_condition = asd_condition"
   ]
  },
  {
   "cell_type": "code",
   "execution_count": 49,
   "id": "2055ac18",
   "metadata": {},
   "outputs": [
    {
     "data": {
      "text/plain": [
       "False    4087\n",
       "True       59\n",
       "Name: NVLD, dtype: int64"
      ]
     },
     "execution_count": 49,
     "metadata": {},
     "output_type": "execute_result"
    }
   ],
   "source": [
    "data[\"NVLD\"] = step_1_condition & step2_condition & step_3_condition\n",
    "data[\"NVLD\"].value_counts()"
   ]
  },
  {
   "cell_type": "code",
   "execution_count": 42,
   "id": "8f185fb1",
   "metadata": {},
   "outputs": [
    {
     "data": {
      "text/plain": [
       "False    4140\n",
       "True        6\n",
       "Name: NVLD, dtype: int64"
      ]
     },
     "execution_count": 42,
     "metadata": {},
     "output_type": "execute_result"
    }
   ],
   "source": [
    "step_2_condition_no_EF = (social_condition.astype(int) + math_condition.astype(int)) >= 2\n",
    "data[\"NVLD\"] = step_1_condition & step_2_condition_no_EF & step_3_condition\n",
    "data[\"NVLD\"].value_counts()"
   ]
  },
  {
   "cell_type": "code",
   "execution_count": 43,
   "id": "4aa6350e",
   "metadata": {},
   "outputs": [
    {
     "data": {
      "text/plain": [
       "False    4061\n",
       "True       85\n",
       "Name: NVLD, dtype: int64"
      ]
     },
     "execution_count": 43,
     "metadata": {},
     "output_type": "execute_result"
    }
   ],
   "source": [
    "step_1_condition_no_reading = spacial_condition \n",
    "data[\"NVLD\"] = step_1_condition_no_reading & step2_condition & step_3_condition\n",
    "data[\"NVLD\"].value_counts()"
   ]
  },
  {
   "cell_type": "code",
   "execution_count": 52,
   "id": "b4e46cbd",
   "metadata": {},
   "outputs": [
    {
     "data": {
      "text/plain": [
       "False    4139\n",
       "True        7\n",
       "Name: NVLD, dtype: int64"
      ]
     },
     "execution_count": 52,
     "metadata": {},
     "output_type": "execute_result"
    }
   ],
   "source": [
    "data[\"NVLD\"] = step_1_condition_no_reading & step2_condition_no_EF & step_3_condition\n",
    "data[\"NVLD\"].value_counts()"
   ]
  }
 ],
 "metadata": {
  "kernelspec": {
   "display_name": "Python (conda base)",
   "language": "python",
   "name": "base"
  },
  "language_info": {
   "codemirror_mode": {
    "name": "ipython",
    "version": 3
   },
   "file_extension": ".py",
   "mimetype": "text/x-python",
   "name": "python",
   "nbconvert_exporter": "python",
   "pygments_lexer": "ipython3",
   "version": "3.9.14"
  }
 },
 "nbformat": 4,
 "nbformat_minor": 5
}
