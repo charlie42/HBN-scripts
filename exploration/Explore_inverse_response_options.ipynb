{
 "cells": [
  {
   "cell_type": "code",
   "execution_count": 3,
   "id": "c870e647",
   "metadata": {},
   "outputs": [
    {
     "name": "stdout",
     "output_type": "stream",
     "text": [
      "Reading data from:  ../diagnosis_predictor_data/data/create_datasets/2023-08-10 19.14.36___first_assessment_to_drop__WHODAS_P___use_other_diags_as_input__0___only_free_assessments__0___learning?__0___NIH?__0/\n"
     ]
    }
   ],
   "source": [
    "import pandas as pd\n",
    "import numpy as np\n",
    "\n",
    "import matplotlib.pyplot as plt\n",
    "import seaborn as sns\n",
    "\n",
    "import sys\n",
    "sys.path.append(\"..\")  # Adds the parent directory (project_root) to the path\n",
    "from data_reading import DataReader\n",
    "\n",
    "data_reader = DataReader()\n",
    "\n",
    "df = data_reader.read_data(data_type = \"item_lvl\", \n",
    "                            params = [\"multiple_assessments\", \"all_assessments\", \"learning_and_consensus_diags\"])"
   ]
  },
  {
   "cell_type": "markdown",
   "id": "fa655e03",
   "metadata": {},
   "source": [
    "### SDQ"
   ]
  },
  {
   "cell_type": "markdown",
   "id": "80b19025",
   "metadata": {},
   "source": [
    "Expected negative correlation (ASD, \"Generally liked by other children (for 11-17 year olds: Generally liked by other youth) - 0=Not True, 1=Somewhat True, 2=Certainly True\")"
   ]
  },
  {
   "cell_type": "code",
   "execution_count": 49,
   "id": "e53be394",
   "metadata": {},
   "outputs": [
    {
     "name": "stdout",
     "output_type": "stream",
     "text": [
      "Expected negative:\n",
      "Diag.Autism Spectrum Disorder    1.000000\n",
      "SDQ,SDQ_14                       0.170005\n",
      "SDQ,SDQ_11                       0.156190\n",
      "SDQ,SDQ_20                      -0.089845\n",
      "SDQ,SDQ_01                      -0.112997\n",
      "Name: Diag.Autism Spectrum Disorder, dtype: float64\n",
      "\n",
      "Expected positive:\n",
      "Diag.Autism Spectrum Disorder    1.000000\n",
      "SDQ,SDQ_06                       0.197547\n",
      "SDQ,SDQ_23                       0.160057\n",
      "SDQ,SDQ_19                       0.114496\n",
      "Name: Diag.Autism Spectrum Disorder, dtype: float64\n"
     ]
    }
   ],
   "source": [
    "diag = \"Diag.Autism Spectrum Disorder\"\n",
    "expected_negative = [\n",
    "    \"SDQ,SDQ_01\", # Considerate of other people's feelings\n",
    "    \"SDQ,SDQ_11\", # Has at least one good friend \n",
    "    \"SDQ,SDQ_14\", # Generally liked by other children (for 11-17 year olds: Generally liked by other youth)\n",
    "    \"SDQ,SDQ_20\", # Often offers to help others (parents, teachers, children)\n",
    "]\n",
    "expected_positive = [\n",
    "    \"SDQ,SDQ_06\", # Rather solitary, prefers to play alone (for 11-17 year olds: Would rather be alone than with other youth)\n",
    "    \"SDQ,SDQ_19\", # Picked on or bullied by other children (for 11-17 year olds: Picked on or bullied by other youth)\n",
    "    \"SDQ,SDQ_23\", # Gets along better with adults than other children (for 11-17 year olds: Gets along better with adults than with other youth)\n",
    "]\n",
    "\n",
    "print(\"Expected negative:\")\n",
    "print(df[expected_negative + [diag]].corr()[diag].sort_values(ascending=False))\n",
    "print()\n",
    "print(\"Expected positive:\")\n",
    "print(df[expected_positive + [diag]].corr()[diag].sort_values(ascending=False))"
   ]
  },
  {
   "cell_type": "code",
   "execution_count": 51,
   "id": "ed43bfd3",
   "metadata": {},
   "outputs": [
    {
     "name": "stdout",
     "output_type": "stream",
     "text": [
      "Expected negative:\n",
      "Diag.ADHD-Combined Type    1.000000\n",
      "SDQ,SDQ_21                 0.225885\n",
      "SDQ,SDQ_25                 0.218915\n",
      "Name: Diag.ADHD-Combined Type, dtype: float64\n",
      "\n",
      "Expected positive:\n",
      "Diag.ADHD-Combined Type    1.000000\n",
      "SDQ,SDQ_10                 0.319331\n",
      "SDQ,SDQ_15                 0.240324\n",
      "SDQ,SDQ_17                -0.082391\n",
      "Name: Diag.ADHD-Combined Type, dtype: float64\n"
     ]
    }
   ],
   "source": [
    "diag = \"Diag.ADHD-Combined Type\"\n",
    "\n",
    "expected_negative = [\n",
    "    \"SDQ,SDQ_21\", # Thinks things out before acting\n",
    "    \"SDQ,SDQ_25\", # Good attention span, sees chores or homework through to the end\n",
    "]\n",
    "expected_positive = [\n",
    "    \"SDQ,SDQ_10\", # Constantly fidgeting or squirming\n",
    "    \"SDQ,SDQ_15\", # Easily distracted, concentration wanders\n",
    "    \"SDQ,SDQ_17\", # Restless, overactive, cannot stay still for long\n",
    "]\n",
    "\n",
    "print(\"Expected negative:\")\n",
    "print(df[expected_negative + [diag]].corr()[diag].sort_values(ascending=False))\n",
    "print()\n",
    "print(\"Expected positive:\")\n",
    "print(df[expected_positive + [diag]].corr()[diag].sort_values(ascending=False))"
   ]
  },
  {
   "cell_type": "markdown",
   "id": "26eabf78",
   "metadata": {},
   "source": [
    "### SRS"
   ]
  },
  {
   "cell_type": "markdown",
   "id": "57c8e40a",
   "metadata": {},
   "source": [
    "Expected negative correlation (ASD, \"Plays appropriately with children his or her age. - 0= Not True, 1= Sometimes True, 2= Often True, 3= Almost Always True\")"
   ]
  },
  {
   "cell_type": "code",
   "execution_count": 48,
   "id": "ec39ceb7",
   "metadata": {},
   "outputs": [
    {
     "name": "stdout",
     "output_type": "stream",
     "text": [
      "Expected negative:\n",
      "Diag.Autism Spectrum Disorder    1.000000\n",
      "SRS,SRS_22                       0.230247\n",
      "SRS,SRS_15                       0.139448\n",
      "SRS,SRS_07                       0.128704\n",
      "SRS,SRS_03                       0.105485\n",
      "SRS,SRS_12                       0.085100\n",
      "SRS,SRS_11                       0.084484\n",
      "Name: Diag.Autism Spectrum Disorder, dtype: float64\n",
      "\n",
      "Expected positive:\n",
      "Diag.Autism Spectrum Disorder    1.000000\n",
      "SRS,SRS_05                       0.177707\n",
      "SRS,SRS_04                       0.154877\n",
      "SRS,SRS_01                       0.133270\n",
      "SRS,SRS_02                       0.119858\n",
      "Name: Diag.Autism Spectrum Disorder, dtype: float64\n"
     ]
    }
   ],
   "source": [
    "diag = \"Diag.Autism Spectrum Disorder\"\n",
    "\n",
    "expected_negative = [\n",
    "    \"SRS,SRS_03\", # Seems self-confident when interacting with others.\n",
    "    \"SRS,SRS_07\", # 7. Is aware of what others are thinking or feeling.\n",
    "    \"SRS,SRS_11\", # 11. Has good self-confidence.\n",
    "    \"SRS,SRS_12\", # 12. Is able to communicate his or her feelings to others.\n",
    "    \"SRS,SRS_15\", # 15. Is able to understand the meaning of other people's tone of voice and facial expressions.\n",
    "    \"SRS,SRS_22\", # Plays appropriately with children his or her age. - 0= Not True, 1= Sometimes True, 2= Often True, 3= Almost Always True\n",
    "]\n",
    "\n",
    "expected_positive = [\n",
    "    \"SRS,SRS_01\", # 1. Seems much more fidgety in social situations than when alone.\n",
    "    \"SRS,SRS_02\", # 2. Expressions on his or her face don't match what he or she is saying.\n",
    "    \"SRS,SRS_04\", # 4. When under stress, he or she shows rigid or inflexible patterns of behavior that seem odd.\n",
    "    \"SRS,SRS_05\", # 5. Doesn't recognize when others are trying to take advantage of him or her.\n",
    "]\n",
    "\n",
    "print(\"Expected negative:\")\n",
    "print(df[expected_negative + [diag]].corr()[diag].sort_values(ascending=False))\n",
    "print()\n",
    "\n",
    "print(\"Expected positive:\")\n",
    "print(df[expected_positive + [diag]].corr()[diag].sort_values(ascending=False))\n"
   ]
  },
  {
   "cell_type": "markdown",
   "id": "7d7c2639",
   "metadata": {},
   "source": [
    "Expected positive correlation (ASD, \"Thinks or talks about the same thing over and over. - 0= Not True, 1= Sometimes True, 2= Often True, 3= Almost Always True\")"
   ]
  },
  {
   "cell_type": "markdown",
   "id": "62a79925",
   "metadata": {},
   "source": [
    "### ICU_P\n",
    "0=Not at all true, 1=Somewhat true, 2=Very true, 3=Definitely true"
   ]
  },
  {
   "cell_type": "code",
   "execution_count": 47,
   "id": "be53bb04",
   "metadata": {},
   "outputs": [
    {
     "name": "stdout",
     "output_type": "stream",
     "text": [
      "Expected negative:\n",
      "Diag.Oppositional Defiant Disorder    1.000000\n",
      "ICU_P,ICU_P_17                        0.232849\n",
      "ICU_P,ICU_P_16                        0.177124\n",
      "ICU_P,ICU_P_13                        0.170675\n",
      "ICU_P,ICU_P_24                        0.143438\n",
      "ICU_P,ICU_P_10                       -0.104132\n",
      "Name: Diag.Oppositional Defiant Disorder, dtype: float64\n"
     ]
    }
   ],
   "source": [
    "diag = \"Diag.Oppositional Defiant Disorder\"\n",
    "\n",
    "expected_negative = [\n",
    "    \"ICU_P,ICU_P_10\", # 10. Does not let feelings control him/her. \n",
    "    \"ICU_P,ICU_P_13\", # 13. Easily admits to being wrong. \n",
    "    \"ICU_P,ICU_P_16\", # 16. Apologizes (“says he/she is sorry”) to persons he/she has hurt. \n",
    "    \"ICU_P,ICU_P_17\", # 17. Tries not to hurt others’ feelings.\n",
    "    \"ICU_P,ICU_P_24\", # 24. Does things to make others feel good. \n",
    "]\n",
    "\n",
    "print(\"Expected negative:\")\n",
    "print(df[expected_negative + [diag]].corr()[diag].sort_values(ascending=False))"
   ]
  }
 ],
 "metadata": {
  "kernelspec": {
   "display_name": "Python 3 (ipykernel)",
   "language": "python",
   "name": "python3"
  },
  "language_info": {
   "codemirror_mode": {
    "name": "ipython",
    "version": 3
   },
   "file_extension": ".py",
   "mimetype": "text/x-python",
   "name": "python",
   "nbconvert_exporter": "python",
   "pygments_lexer": "ipython3",
   "version": "3.9.17"
  }
 },
 "nbformat": 4,
 "nbformat_minor": 5
}
