{
 "cells": [
  {
   "cell_type": "markdown",
   "id": "26fa0cc4",
   "metadata": {},
   "source": [
    "## Investigating if scoring of some items needs to be reversed when using my item subsests (wrong correlations between diagnoses and responses)\n",
    "\n",
    "### Read data"
   ]
  },
  {
   "cell_type": "code",
   "execution_count": 1,
   "id": "c870e647",
   "metadata": {},
   "outputs": [
    {
     "name": "stdout",
     "output_type": "stream",
     "text": [
      "Reading data from:  ../diagnosis_predictor_data_archive/data/create_datasets/2023-08-17 12.47.56___only_parent_report__0___first_assessment_to_drop__WHODAS_P___use_other_diags_as_input__0___only_free_assessments__0___learning?__0___NIH?__0___fix_n__1/\n"
     ]
    }
   ],
   "source": [
    "import pandas as pd\n",
    "import numpy as np\n",
    "\n",
    "import matplotlib.pyplot as plt\n",
    "import seaborn as sns\n",
    "\n",
    "import sys\n",
    "sys.path.append(\"..\")  # Adds the parent directory (project_root) to the path\n",
    "from data_reading import DataReader\n",
    "\n",
    "data_reader = DataReader()\n",
    "\n",
    "df = data_reader.read_data(data_type = \"item_lvl\", \n",
    "                            params = [\"parent_and_sr\", \"multiple_assessments\", \"all_assessments\", \"learning_and_consensus_diags\"])"
   ]
  },
  {
   "cell_type": "markdown",
   "id": "fa655e03",
   "metadata": {},
   "source": [
    "### Check if correlations for items that are expected to be negative are indeed negative, and positive if expected positive\n",
    "\n",
    "#### SDQ\n",
    "Exptected a negative correlation between ASD diagnosis and item \"Generally liked by other children (for 11-17 year olds: Generally liked by other youth) - 0=Not True, 1=Somewhat True, 2=Certainly True\""
   ]
  },
  {
   "cell_type": "code",
   "execution_count": 2,
   "id": "e53be394",
   "metadata": {},
   "outputs": [
    {
     "name": "stdout",
     "output_type": "stream",
     "text": [
      "Expected negative:\n",
      "SDQ,SDQ_01                      -0.112997\n",
      "SDQ,SDQ_11                       0.156190\n",
      "SDQ,SDQ_14                       0.170005\n",
      "SDQ,SDQ_20                      -0.089845\n",
      "Diag.Autism Spectrum Disorder    1.000000\n",
      "Name: Diag.Autism Spectrum Disorder, dtype: float64\n",
      "\n",
      "Expected positive:\n",
      "SDQ,SDQ_06                       0.197547\n",
      "SDQ,SDQ_19                       0.114496\n",
      "SDQ,SDQ_23                       0.160057\n",
      "Diag.Autism Spectrum Disorder    1.000000\n",
      "Name: Diag.Autism Spectrum Disorder, dtype: float64\n"
     ]
    }
   ],
   "source": [
    "diag = \"Diag.Autism Spectrum Disorder\"\n",
    "expected_negative = [\n",
    "    \"SDQ,SDQ_01\", # Considerate of other people's feelings\n",
    "    \"SDQ,SDQ_11\", # Has at least one good friend \n",
    "    \"SDQ,SDQ_14\", # Generally liked by other children (for 11-17 year olds: Generally liked by other youth)\n",
    "    \"SDQ,SDQ_20\", # Often offers to help others (parents, teachers, children)\n",
    "]\n",
    "expected_positive = [\n",
    "    \"SDQ,SDQ_06\", # Rather solitary, prefers to play alone (for 11-17 year olds: Would rather be alone than with other youth)\n",
    "    \"SDQ,SDQ_19\", # Picked on or bullied by other children (for 11-17 year olds: Picked on or bullied by other youth)\n",
    "    \"SDQ,SDQ_23\", # Gets along better with adults than other children (for 11-17 year olds: Gets along better with adults than with other youth)\n",
    "]\n",
    "\n",
    "print(\"Expected negative:\")\n",
    "print(df[expected_negative + [diag]].corr()[diag])\n",
    "print()\n",
    "print(\"Expected positive:\")\n",
    "print(df[expected_positive + [diag]].corr()[diag])"
   ]
  },
  {
   "cell_type": "markdown",
   "id": "140c77fc",
   "metadata": {},
   "source": [
    "Two of the items that were expected to be negatively correlated with ASD are indeed correlated negatively, the other two are correlated positively. \n",
    "All of those that were expected to be positively correlated with ASD are indeed correlated positively"
   ]
  },
  {
   "cell_type": "code",
   "execution_count": 3,
   "id": "ed43bfd3",
   "metadata": {},
   "outputs": [
    {
     "name": "stdout",
     "output_type": "stream",
     "text": [
      "Expected negative:\n",
      "SDQ,SDQ_21                 0.225885\n",
      "SDQ,SDQ_25                 0.218915\n",
      "Diag.ADHD-Combined Type    1.000000\n",
      "Name: Diag.ADHD-Combined Type, dtype: float64\n",
      "\n",
      "Expected positive:\n",
      "SDQ,SDQ_10                 0.319331\n",
      "SDQ,SDQ_15                 0.240324\n",
      "SDQ,SDQ_17                -0.082391\n",
      "Diag.ADHD-Combined Type    1.000000\n",
      "Name: Diag.ADHD-Combined Type, dtype: float64\n"
     ]
    }
   ],
   "source": [
    "diag = \"Diag.ADHD-Combined Type\"\n",
    "\n",
    "expected_negative = [\n",
    "    \"SDQ,SDQ_21\", # Thinks things out before acting\n",
    "    \"SDQ,SDQ_25\", # Good attention span, sees chores or homework through to the end\n",
    "]\n",
    "expected_positive = [\n",
    "    \"SDQ,SDQ_10\", # Constantly fidgeting or squirming\n",
    "    \"SDQ,SDQ_15\", # Easily distracted, concentration wanders\n",
    "    \"SDQ,SDQ_17\", # Restless, overactive, cannot stay still for long\n",
    "]\n",
    "\n",
    "print(\"Expected negative:\")\n",
    "print(df[expected_negative + [diag]].corr()[diag])\n",
    "print()\n",
    "print(\"Expected positive:\")\n",
    "print(df[expected_positive + [diag]].corr()[diag])"
   ]
  },
  {
   "cell_type": "markdown",
   "id": "301b7fb6",
   "metadata": {},
   "source": [
    "All tested items are positively correlted with ADHD-Combined, even though two were expected to correlate negativelym"
   ]
  },
  {
   "cell_type": "markdown",
   "id": "26eabf78",
   "metadata": {},
   "source": [
    "#### SRS"
   ]
  },
  {
   "cell_type": "markdown",
   "id": "57c8e40a",
   "metadata": {},
   "source": [
    "Expected negative correlation (ASD, \"Plays appropriately with children his or her age. - 0= Not True, 1= Sometimes True, 2= Often True, 3= Almost Always True\")"
   ]
  },
  {
   "cell_type": "code",
   "execution_count": 4,
   "id": "ec39ceb7",
   "metadata": {},
   "outputs": [
    {
     "name": "stdout",
     "output_type": "stream",
     "text": [
      "Expected negative:\n",
      "SRS,SRS_03                       0.105485\n",
      "SRS,SRS_07                       0.128704\n",
      "SRS,SRS_11                       0.084484\n",
      "SRS,SRS_12                       0.085100\n",
      "SRS,SRS_15                       0.139448\n",
      "SRS,SRS_22                       0.230247\n",
      "Diag.Autism Spectrum Disorder    1.000000\n",
      "Name: Diag.Autism Spectrum Disorder, dtype: float64\n",
      "\n",
      "Expected positive:\n",
      "SRS,SRS_01                       0.133270\n",
      "SRS,SRS_02                       0.119858\n",
      "SRS,SRS_04                       0.154877\n",
      "SRS,SRS_05                       0.177707\n",
      "Diag.Autism Spectrum Disorder    1.000000\n",
      "Name: Diag.Autism Spectrum Disorder, dtype: float64\n"
     ]
    }
   ],
   "source": [
    "diag = \"Diag.Autism Spectrum Disorder\"\n",
    "\n",
    "expected_negative = [\n",
    "    \"SRS,SRS_03\", # Seems self-confident when interacting with others.\n",
    "    \"SRS,SRS_07\", # 7. Is aware of what others are thinking or feeling.\n",
    "    \"SRS,SRS_11\", # 11. Has good self-confidence.\n",
    "    \"SRS,SRS_12\", # 12. Is able to communicate his or her feelings to others.\n",
    "    \"SRS,SRS_15\", # 15. Is able to understand the meaning of other people's tone of voice and facial expressions.\n",
    "    \"SRS,SRS_22\", # Plays appropriately with children his or her age. - 0= Not True, 1= Sometimes True, 2= Often True, 3= Almost Always True\n",
    "]\n",
    "\n",
    "expected_positive = [\n",
    "    \"SRS,SRS_01\", # 1. Seems much more fidgety in social situations than when alone.\n",
    "    \"SRS,SRS_02\", # 2. Expressions on his or her face don't match what he or she is saying.\n",
    "    \"SRS,SRS_04\", # 4. When under stress, he or she shows rigid or inflexible patterns of behavior that seem odd.\n",
    "    \"SRS,SRS_05\", # 5. Doesn't recognize when others are trying to take advantage of him or her.\n",
    "]\n",
    "\n",
    "print(\"Expected negative:\")\n",
    "print(df[expected_negative + [diag]].corr()[diag])\n",
    "print()\n",
    "\n",
    "print(\"Expected positive:\")\n",
    "print(df[expected_positive + [diag]].corr()[diag])\n"
   ]
  },
  {
   "cell_type": "markdown",
   "id": "0600fdfe",
   "metadata": {},
   "source": [
    "All tested items are positively correlted with ADHD-Combined, even though two were expected to correlate negativelym"
   ]
  },
  {
   "cell_type": "markdown",
   "id": "62a79925",
   "metadata": {},
   "source": [
    "#### ICU_P\n",
    "Expected negative corerlation between ODD and \"Does not let feelings control him/her. - 0=Not at all true, 1=Somewhat true, 2=Very true, 3=Definitely true\""
   ]
  },
  {
   "cell_type": "code",
   "execution_count": 5,
   "id": "be53bb04",
   "metadata": {},
   "outputs": [
    {
     "name": "stdout",
     "output_type": "stream",
     "text": [
      "Expected negative:\n",
      "ICU_P,ICU_P_10                       -0.104132\n",
      "ICU_P,ICU_P_13                        0.170675\n",
      "ICU_P,ICU_P_16                        0.177124\n",
      "ICU_P,ICU_P_17                        0.232849\n",
      "ICU_P,ICU_P_24                        0.143438\n",
      "Diag.Oppositional Defiant Disorder    1.000000\n",
      "Name: Diag.Oppositional Defiant Disorder, dtype: float64\n"
     ]
    }
   ],
   "source": [
    "diag = \"Diag.Oppositional Defiant Disorder\"\n",
    "\n",
    "expected_negative = [\n",
    "    \"ICU_P,ICU_P_10\", # 10. Does not let feelings control him/her. \n",
    "    \"ICU_P,ICU_P_13\", # 13. Easily admits to being wrong. \n",
    "    \"ICU_P,ICU_P_16\", # 16. Apologizes (“says he/she is sorry”) to persons he/she has hurt. \n",
    "    \"ICU_P,ICU_P_17\", # 17. Tries not to hurt others’ feelings.\n",
    "    \"ICU_P,ICU_P_24\", # 24. Does things to make others feel good. \n",
    "]\n",
    "\n",
    "print(\"Expected negative:\")\n",
    "print(df[expected_negative + [diag]].corr()[diag])"
   ]
  },
  {
   "cell_type": "markdown",
   "id": "9d410dca",
   "metadata": {},
   "source": [
    "## Check items that seem wrong even after changing the response options:\n",
    "SDQ_25: Good attention span, sees chores or homework through to the end - 0=Not True, 1=Somewhat True, 2=Certainly True\n",
    "\n",
    "CBCL_111: Withdrawn, doesn't get inolved with others - 0=Not true, 1=Somewhat or sometimes true, 2=Very true or often true "
   ]
  },
  {
   "cell_type": "markdown",
   "id": "61fce520",
   "metadata": {},
   "source": [
    "All tested items expected to have negative correlations, instead all except one are positively correlated. "
   ]
  },
  {
   "cell_type": "code",
   "execution_count": 6,
   "id": "6852798b",
   "metadata": {},
   "outputs": [
    {
     "data": {
      "text/plain": [
       "SDQ,SDQ_25                 0.218915\n",
       "Diag.ADHD-Combined Type    1.000000\n",
       "Name: Diag.ADHD-Combined Type, dtype: float64"
      ]
     },
     "metadata": {},
     "output_type": "display_data"
    },
    {
     "data": {
      "text/plain": [
       "CBCL,CBCL_111                    0.108389\n",
       "Diag.Autism Spectrum Disorder    1.000000\n",
       "Name: Diag.Autism Spectrum Disorder, dtype: float64"
      ]
     },
     "metadata": {},
     "output_type": "display_data"
    }
   ],
   "source": [
    "df_scale = df[[\n",
    "    \"SDQ,SDQ_25\",\n",
    "    \"Diag.ADHD-Combined Type\"\n",
    "]]\n",
    "\n",
    "display(df_scale.corr()[\"Diag.ADHD-Combined Type\"])\n",
    "\n",
    "df_scale = df[[\n",
    "    \"CBCL,CBCL_111\",\n",
    "    \"Diag.Autism Spectrum Disorder\",\n",
    "]]\n",
    "\n",
    "display(df_scale.corr()[\"Diag.Autism Spectrum Disorder\"])"
   ]
  },
  {
   "cell_type": "code",
   "execution_count": null,
   "id": "cb63550c",
   "metadata": {},
   "outputs": [],
   "source": [
    "## Check correlations for items that are included in the total score and those who don't"
   ]
  },
  {
   "cell_type": "code",
   "execution_count": null,
   "id": "c8510a9a",
   "metadata": {},
   "outputs": [],
   "source": [
    "diag = \"Diag.Autism Spectrum Disorder\"\n",
    "included_in_total = [\n",
    "    \"SDQ,SDQ_07\",\n",
    "    \"SDQ,SDQ_11\", # Has at least one good friend \n",
    "    \"SDQ,SDQ_14\", # Generally liked by other children (for 11-17 year olds: Generally liked by other youth)\n",
    "    \"SDQ,SDQ_21\", \n",
    "    \"SDQ,SDQ_25\", \n",
    "]\n",
    "not_included_in_total = [\n",
    "    \"SDQ,SDQ_01\", # Considerate of other people's feelings\n",
    "    \"SDQ,SDQ_20\", # Often offers to help others (parents, teachers, children)\n",
    "]\n",
    "\n",
    "print(\"Expected negative:\")\n",
    "print(df[expected_negative + [diag]].corr()[diag])\n",
    "print()\n",
    "print(\"Expected positive:\")\n",
    "print(df[expected_positive + [diag]].corr()[diag])"
   ]
  },
  {
   "cell_type": "markdown",
   "id": "d417a448",
   "metadata": {},
   "source": [
    "## Check if pre-calculated subscale scores are affected\n",
    "### In the following subscales, some items are scored positively (should be added up when calculating the sum-score), some are scored negatively (should be substracted). If everything is correct, the subscale value should be smaller than just a sum of all item response values. If instead all values are added (ignoring the fact that some are scored negatively), the sum and the subscale score will have the same value.\n",
    "\n",
    "#### Read data"
   ]
  },
  {
   "cell_type": "code",
   "execution_count": 7,
   "id": "e04c8dc5",
   "metadata": {},
   "outputs": [
    {
     "name": "stderr",
     "output_type": "stream",
     "text": [
      "/var/folders/63/96f7chcx7qq5r9fq4x0x72bw0000gq/T/ipykernel_99793/625542567.py:2: DtypeWarning: Columns (25,26,27,28,29,30,31,32,33,34,35,36,37,38,39,40,41,42,43,44,45,46,47,48,49,50,51,52,53,54,55,56,57,58,59,60,61,62,63,64,65,66,67,68,69,70,71,72,73,75,77,79,82,84,85,86,87,88,89,90,91,92,93,94,95,96,97,98,99,100,101,102,103,104,105,106,107,108,109,110,111,112,113,114,115,116,117,118,119,120,121,122,123,124,125,126,127,128,129,130,131,132,133,134,135,136,137,138,139,140,141,142,143,144,145,147,149,151,154,156,157,158,159,160,161,162,163,164,165,166,168,170,172,175,177,178,179,367,368,369,370,371,372,373,374,375,376,377,378,379,380,381,382,383,384,385,386,387,388,389,390,391,392,393,394,396,398,400,403,405,406,407,475,476,477,478,479,480,481,482,484,486,489,491,492,493,494,496,497,500,503,504,505,507,508,509,510,511,512,513,514,1108,1109,1110,1111,1113,1115,1118,1120,1121,1122,1490,1491,1492,1493,1494,1495,1496,1497,1498,1499,1500,1501,1502,1503,1504,1505,1506,1507,1508,1509,1511,1512,1513,1514,1515,1516,1518,1519,1521,1523,1526,1528,1529,1530,1813,1815,1817,1820,1823,1824,1825,1826,1827,1828,1829,1830,1831,1833,1835,1837,1838,1839,1841,1842,1843,1844,1845,1846,1849,1852,1855,1858,1859,1860,1861,1862,1863,1864,1865,1866,1867,1869,1871,1874,1875,1876,1877,1878,1879,1880,1881,1884,1886,1889,1890,1891,1892,1893,1894,1895,1896,1899,1901,1904,1905,1906,1907,1908,1909,1910,1911,1914,1916,1919,1920,1921,1922,1923,1924,1925,1926,1929,1931,1934,1935,1936,1937,1938,1939,1940,1941,1944,1946,1949,1950,1951,1952,1953,1954,1955,1956,1957,1959,1961,1964,1965,1966,1967,1968,1969,1970,1971,1972,1973,1974,1975,1976,1977,1978,1979,1980,1981,1982,1983,1984,1985,1986,1987,1988,1989,1990,1991,1992,1993,1994,1995,1996,1997,1998,1999,2000,2001,2002,2003,2004,2005,2006,2007,2008,2009,2010,2011,2012,2013,2014,2015,2016,2017,2018,2019,2021,2023,2024,2027,2029,2030,2031,2150,2152,2153,2154,2155,2156,2157,2158,2159,2160,2161,2162,2163,2164,2165,2166,2167,2168,2170,2173,2175,2176,2177,3467,3469,3471,3472,3473,3474,3475,3476,3477,3479,3480,3481,3482,3483,3484,3485,3488,3490,3491,4045,4047,4049,4052,4054,4055,4056,4058,4059,4061,4062,4063,4064,4065,4066,4067,4126,4127,4128,4130,4131,4133,4134,4135,4139,4141,4142,4143,4144,4145,4146,4275,4277,4279,4282,4284,4285,4286,4287,4288,4289,4290,4291,4292,4293,4294,4295,4296,4297,4298,4299,4300,4301,4302,4303,4304,4305,4306,4307,4308,4309,4310,4311,4312,4313,4314,4315,4316,4317,4318,4319,4320,4321,4322,4323,4324,4325,4326,4327,4328,4329,4330,4331,4332,4333,4334,4335,4336,4337,4338,4339,4340,4341,4342,4343,4344,4345,4346,4347,4348,4349,4350,4351,4352,4353,4354,4372,4373,4374,4375,4376,4377,4378,4379,4380,4381,4382,4383,4385,4386,4388,4389,4391,4392,4393,4396,4398,4399,4400,4401,4402,4403,4404,4405,4406,4407,4408,4411,4413,4414,4416,4417,4418,4421,4422,4427,4429,4430,4431,4432,4434,4436,4437,4438,4441,4442,4443,4444,4445,4446,4447,4448,4451,4452,4453,4454,4455,4456,4457,4458,4459,5391,5393,5395,5397,5398,5400,5402,5404,5407,5409,5410,5411,5412,5413,5415,5416,5418,5419,5420,5421,5422,5423,5424,5425,5428,5430,5432,5434,5436,5438,5440,5441,5442,5443,5444,5446,5447,5456,5459,5462,5477,5478,5479,5480,5481,5482,5483,5825,5827,5829,5830,5831,5832,5833,5834,5835,5836,5837,5838,5839,5840,5841,5842,5843,5844,5845,5846,5847,5848,5849,5850,5851,5852,5853,5854,5855,5856,5857,5858,5859,5860,5861,5862,5863,5864,5865,5866,5867,5868,5869,5870,5873,5875,5876,5877,6235,6237,6239,6241,6242,6243,6244,6245,6246,6247,6248,6249,6250,6251,6252,6253,6254,6255,6256,6257,6258,6259,6260,6261,6263,6265,6266,6267,6269,6270,6271,6272,6273,6274,6275,6276,6277,6278,6279,6280,6281,6282,6283,6284,6285,6286,6287,6288,6289,6290,6291,6292,6293,6294,6295,6296,6297,6298,6299,6300,6301,6302,6303,6304,6305,6306,6307,6308,6309,6310,6311,6312,6313,6314,6315,6316,6317,6318,6319,6320,6321,6322,6323,6324,6325,6326,6327,6328,6329,6330,6331,6332,6333,6334,6335,6336,6337,6338,6339,6340,6341,6342,6343,6344,6345,6346,6347,6348,6349,6350,6351,6352,6353,6354,6355,6356,6357,6358,6359,6360,6361,6362,6363,6364,6365,6366,6367,6368,6369,6370,6371,6372,6373,6374,6375,6376,6377,6378,6379,6380,6381,6382,6383,6384,6385,6386,6387,6388,6389,6390,6391,6392,6393,6394,6395,6397,6399,6402,6404,6405,6406,6438,6440,6442,6445,6447,6448,6449,6450,6451,6452,6453,6454,6455,6456,6457,6458,6459,6460,6461,6462,6463,6464,6465,6466,6467,6468,6469,6470,6471,6472,6473,6474,6475,6476,6477,6478,6479,6480,6481,6482,6483,6484,6485,6486,6487,6488,6489,6490,6491,6492,6493,6494,6495,6496,6497,6498,6499,6500,6501,6502,6503,6504,6505,6506,6507,6508,6509,6510,6511,6512,6513,6514,6515,6516,6517,6518,6519,6520,6521,6522,6523,6524,6525,6526,6527,6528,6529,6530,6531,6532,6533,6534,6535,6536,6537,6538,6539,6540,6541,6542,6543,6544,6545,6546,6547,6548,6549,6550,6551,6552,6553,6554,6555,6556,6557,6558,6559,6560,6561,6562,6563,6564,6565,6566,6567,6568,6569,6570,6571,6572,6573,6574,6575,6576,6577,6578,6579,6580,6581,6582,6583,6584,6585,6586,6587,6588,6589,6590,6591,6592,6593,6594,6595,6596,6597,6598,6599,6600,6601,6602,6603,6604,6605,7065,7067,7069,7072,7074,7075,7077,7078,7079,7080,7081,7082,7083,7084,7085,7086,7087,7088,7089,7090,7091,7092,7093,7094,7095,7096,7097,7098,7099,7100,7101,7102,7103,7104,7105,7106) have mixed types. Specify dtype option on import or set low_memory=False.\n",
      "  df = pd.read_csv(\"../diagnosis_predictor/data/raw/LORIS-release-10.csv\")\n"
     ]
    }
   ],
   "source": [
    "# Read original dataset before preprocessing\n",
    "df = pd.read_csv(\"../diagnosis_predictor/data/raw/LORIS-release-10.csv\")"
   ]
  },
  {
   "cell_type": "markdown",
   "id": "9616954e",
   "metadata": {},
   "source": [
    "#### SRS MOT\n",
    "Compare pre-calculated sum-score of SRS_MOT subscale, that has both positively and negatively coded items, to simply adding all subscale item scores as if all items should be positively coded."
   ]
  },
  {
   "cell_type": "code",
   "execution_count": 8,
   "id": "ac103501",
   "metadata": {},
   "outputs": [
    {
     "name": "stdout",
     "output_type": "stream",
     "text": [
      "values_from_df [ 0  6 21 ... 11  5 12]\n",
      "calculated_values [ 0  6 21 ... 11  5 12]\n"
     ]
    }
   ],
   "source": [
    "subscale_col = \"SRS,SRS_MOT\"\n",
    "subscale_cols = [\n",
    "    \"SRS,SRS_01\",\n",
    "    \"SRS,SRS_03\", \n",
    "    \"SRS,SRS_06\", \n",
    "    \"SRS,SRS_09\",\n",
    "    \"SRS,SRS_11\",\n",
    "    \"SRS,SRS_23\",\n",
    "    \"SRS,SRS_27\",\n",
    "    \"SRS,SRS_34\",\n",
    "    \"SRS,SRS_43\",\n",
    "    \"SRS,SRS_64\",\n",
    "    \"SRS,SRS_65\"\n",
    "]\n",
    "\n",
    "df_scale = df[subscale_cols + [subscale_col]].replace('.', np.nan).dropna().apply(pd.to_numeric, errors='coerce')\n",
    "\n",
    "values_from_df = df_scale[subscale_col].values\n",
    "calculated_values = df_scale[subscale_cols].sum(axis=1).values\n",
    "\n",
    "print(\"values_from_df\", values_from_df)\n",
    "print(\"calculated_values\", calculated_values)"
   ]
  },
  {
   "cell_type": "markdown",
   "id": "6dab9387",
   "metadata": {},
   "source": [
    "Values of \"SRS,SRS_MOT\" column of each participant seem to be equal to summing all items from the MOT subscale, and not substracting ones that should be negatively scored. "
   ]
  },
  {
   "cell_type": "markdown",
   "id": "0edcd1fb",
   "metadata": {},
   "source": [
    "#### SDQ,Conduct_Problems_Total\n",
    "Same analysis for SDQ,Conduct_Problems_Total (one of the items should be negatively coded)"
   ]
  },
  {
   "cell_type": "code",
   "execution_count": 9,
   "id": "da7cefa2",
   "metadata": {},
   "outputs": [
    {
     "name": "stdout",
     "output_type": "stream",
     "text": [
      "values_from_df []\n",
      "calculated_values []\n"
     ]
    }
   ],
   "source": [
    "subscale_col = \"SDQ,Conduct_Problems_Total\"\n",
    "subscale_cols = [\n",
    "    \"SDQ,SDQ_05\",\n",
    "    \"SDQ,SDQ_07\", # Negative (\"Generally obidient\")\n",
    "    \"SDQ,SDQ_12\", \n",
    "    \"SDQ,SDQ_18\",\n",
    "    \"SDQ,SDQ_22\"\n",
    "]\n",
    "\n",
    "df_scale = df[subscale_cols + [subscale_col]].replace('.', np.nan).dropna().apply(pd.to_numeric, errors='coerce')\n",
    "\n",
    "values_from_df = df_scale[subscale_col].values\n",
    "calculated_values = df_scale[subscale_cols].sum(axis=1).values\n",
    "\n",
    "print(\"values_from_df\", values_from_df)\n",
    "print(\"calculated_values\", calculated_values)"
   ]
  },
  {
   "cell_type": "markdown",
   "id": "06684ab4",
   "metadata": {},
   "source": [
    "All SDQ subscale values are missing"
   ]
  },
  {
   "cell_type": "markdown",
   "id": "93f4fea7",
   "metadata": {},
   "source": [
    "#### ICU_P,ICU_P_Total\n",
    "Same analysis for ICU_P total score"
   ]
  },
  {
   "cell_type": "code",
   "execution_count": 10,
   "id": "4358cb33",
   "metadata": {},
   "outputs": [
    {
     "name": "stdout",
     "output_type": "stream",
     "text": [
      "values_from_df [16 16 24 ... 46 24 17] 77889\n",
      "calculated_values [16 16 24 ... 46 24 17] 77888\n"
     ]
    }
   ],
   "source": [
    "subscale_col = \"ICU_P,ICU_P_Total\"\n",
    "subscale_cols = [\n",
    "    \"ICU_P,ICU_P_01\", \n",
    "    \"ICU_P,ICU_P_02\", \n",
    "    \"ICU_P,ICU_P_03\", \n",
    "    \"ICU_P,ICU_P_04\",\n",
    "    \"ICU_P,ICU_P_05\",\n",
    "    \"ICU_P,ICU_P_06\",\n",
    "    \"ICU_P,ICU_P_07\",\n",
    "    \"ICU_P,ICU_P_08\",\n",
    "    \"ICU_P,ICU_P_09\",\n",
    "    \"ICU_P,ICU_P_10\",\n",
    "    \"ICU_P,ICU_P_11\",\n",
    "    \"ICU_P,ICU_P_12\",\n",
    "    \"ICU_P,ICU_P_13\",\n",
    "    \"ICU_P,ICU_P_14\",\n",
    "    \"ICU_P,ICU_P_15\",\n",
    "    \"ICU_P,ICU_P_16\",\n",
    "    \"ICU_P,ICU_P_17\",\n",
    "    \"ICU_P,ICU_P_18\",\n",
    "    \"ICU_P,ICU_P_19\",\n",
    "    \"ICU_P,ICU_P_20\",\n",
    "    \"ICU_P,ICU_P_21\",\n",
    "    \"ICU_P,ICU_P_22\",\n",
    "    \"ICU_P,ICU_P_23\",\n",
    "    \"ICU_P,ICU_P_24\",\n",
    "]\n",
    "\n",
    "df_scale = df[subscale_cols + [subscale_col]].replace('.', np.nan).dropna().apply(pd.to_numeric, errors='coerce')\n",
    "\n",
    "values_from_df = df_scale[subscale_col].values\n",
    "calculated_values = df_scale[subscale_cols].sum(axis=1).values\n",
    "\n",
    "print(\"values_from_df\", values_from_df, sum(values_from_df))\n",
    "print(\"calculated_values\", calculated_values, sum(calculated_values))"
   ]
  },
  {
   "cell_type": "markdown",
   "id": "4a01e22e",
   "metadata": {},
   "source": [
    "Same result as for SRS, HBN ICU_P_Total column seems to be calculated by just summing up all ICU_P response values, instead of substracting the negatively coded ones.\n",
    "\n",
    "Also printing the sum of the column of both values to confirm that the pre-calculated ICU_P_Total column values and the same as the column that summs all ICU_P responses."
   ]
  },
  {
   "cell_type": "code",
   "execution_count": null,
   "id": "e5d9730c",
   "metadata": {},
   "outputs": [],
   "source": []
  }
 ],
 "metadata": {
  "kernelspec": {
   "display_name": "Python 3 (ipykernel)",
   "language": "python",
   "name": "python3"
  },
  "language_info": {
   "codemirror_mode": {
    "name": "ipython",
    "version": 3
   },
   "file_extension": ".py",
   "mimetype": "text/x-python",
   "name": "python",
   "nbconvert_exporter": "python",
   "pygments_lexer": "ipython3",
   "version": "3.9.17"
  }
 },
 "nbformat": 4,
 "nbformat_minor": 5
}
