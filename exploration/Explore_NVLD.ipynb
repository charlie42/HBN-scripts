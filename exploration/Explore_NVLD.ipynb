{
 "cells": [
  {
   "cell_type": "code",
   "execution_count": 1,
   "id": "0750fc9a",
   "metadata": {},
   "outputs": [],
   "source": [
    "%load_ext autoreload\n",
    "%autoreload 2\n",
    "%matplotlib inline\n",
    "\n",
    "import pandas as pd\n",
    "import numpy as np\n",
    "import sys\n",
    "import matplotlib.pyplot as plt\n",
    "\n",
    "sys.path.append(\"helpers\")\n",
    "from helpers import LORIS_data_preparation"
   ]
  },
  {
   "cell_type": "code",
   "execution_count": 2,
   "id": "46e10627",
   "metadata": {},
   "outputs": [],
   "source": [
    "# LORIS saved query (all data)\n",
    "full = pd.read_csv(\"../../diagnosis_predictor/data/raw/LORIS-release-10.csv\", dtype=object)"
   ]
  },
  {
   "cell_type": "code",
   "execution_count": 3,
   "id": "d2df227e",
   "metadata": {},
   "outputs": [
    {
     "name": "stdout",
     "output_type": "stream",
     "text": [
      "DEBUG helper\n"
     ]
    },
    {
     "name": "stderr",
     "output_type": "stream",
     "text": [
      "/Users/home/Repos/hbn/HBN-scripts/exploration/helpers/LORIS_data_preparation.py:30: SettingWithCopyWarning: \n",
      "A value is trying to be set on a copy of a slice from a DataFrame.\n",
      "Try using .loc[row_indexer,col_indexer] = value instead\n",
      "\n",
      "See the caveats in the documentation: https://pandas.pydata.org/pandas-docs/stable/user_guide/indexing.html#returning-a-view-versus-a-copy\n",
      "  full[\"ID\"] = full_for_EID_check.iloc[:, 0]\n"
     ]
    }
   ],
   "source": [
    "data = LORIS_data_preparation.prepare_data(full)"
   ]
  },
  {
   "cell_type": "code",
   "execution_count": 12,
   "id": "abe8f76c",
   "metadata": {},
   "outputs": [],
   "source": [
    "wisc_vci = \"WISC,WISC_VCI\"\n",
    "wisc_bd = \"WISC,WISC_BD_Scaled\"\n",
    "wisc_mr = \"WISC,WISC_MR_Scaled\"\n",
    "wisc_vsi = \"WISC,WISC_VSI\"\n",
    "wisc_vci = \"WISC,WISC_VCI\"\n",
    "wisc_fri = \"WISC,WISC_FRI\"\n",
    "wasi_bd = \"WASI,WASI_BD_T\"\n",
    "wasi_mr = \"WASI,WASI_Matrix_T\"\n",
    "wasi_vci = \"WASI,WASI_VCI_Comp\"\n",
    "wasi_pri = \"WASI,WASI_PRI_Comp\"\n",
    "wais_bd = \"WAIS,WAIS_BD_PERC\"\n",
    "wais_mr = \"WAIS,WAIS_MR_PERC\"\n",
    "wais_vci = \"WAIS,WAIS_VCI_COMP\"\n",
    "wais_pri = \"WAIS,WAIS_PRI_COMP\"\n",
    "assq = \"ASSQ,ASSQ_Total\"\n",
    "word = \"WIAT,WIAT_Word_P\"\n",
    "cbcl = \"CBCL,CBCL_SP_T\"\n",
    "cbcl_pre = \"CBCL_Pre,CBCLPre_SP_T\"\n",
    "num = \"WIAT,WIAT_Num_P\"\n",
    "flanker_p = \"NIH_Scores,NIH7_Flanker_P\"\n",
    "card_p = \"NIH_Scores,NIH7_Card_P\"\n",
    "flanker = \"NIH_final,NIH_Flanker_Age_Corr_Stnd\"\n",
    "card = \"NIH_final,NIH_Card_Age_Corr_Stnd\"\n",
    "peg = \"Pegboard,peg_z_d\"\n",
    "\n",
    "cols = [wisc_vci, \n",
    "        wisc_bd, \n",
    "        wisc_mr,\n",
    "        wisc_vsi,\n",
    "        wisc_vci,\n",
    "        wisc_fri,\n",
    "        wasi_bd,\n",
    "        wasi_mr,\n",
    "        wasi_vci,\n",
    "        wasi_pri,\n",
    "        #wais_bd,\n",
    "        #wais_mr,\n",
    "        #wais_vci,\n",
    "        #wais_pri,\n",
    "        assq,\n",
    "        word,\n",
    "        cbcl,\n",
    "        cbcl_pre,\n",
    "        num,\n",
    "        flanker,\n",
    "        card,\n",
    "        flanker_p,\n",
    "        card_p,\n",
    "        peg]\n",
    "\n",
    "for col in cols:\n",
    "    if col in data.columns:\n",
    "        data[col] = data[col].astype(float)\n",
    "\n",
    "data = data[data[assq] < 19]\n",
    "    \n",
    "# Step 1\n",
    "spatial_deficit_wisc = (data[wisc_bd] <= 7) | (data[wisc_mr] <= 7)\n",
    "spatial_deficit_wasi = (data[wasi_bd] <= 40) | (data[wasi_mr] <= 40)\n",
    "#spatial_deficit_wais = (data[wais_bd] <= 16 | data[wais_mr] <= 16)\n",
    "\n",
    "spatial_deficit = (spatial_deficit_wisc | spatial_deficit_wasi) #| spatial_deficit_wais)\n",
    "\n",
    "discrepancy_wisc_vci_fri =((data[wisc_vci] - data[wisc_fri]) > 15)\n",
    "discrepancy_wisc_vci_vsi = ((data[wisc_vci] - data[wisc_vsi]) > 15)\n",
    "discrepancy_wasi = ((data[wasi_vci] - data[wasi_pri]) > 15)\n",
    "#discrepancy_wais = (data[wais_vci] - data[wais_pri]) > 15\n",
    "\n",
    "discrepancy = discrepancy_wisc_vci_fri | discrepancy_wisc_vci_vsi | discrepancy_wasi #| discrepancy_wais\n",
    "\n",
    "spatial_condition = (spatial_deficit | discrepancy)\n",
    "reading_condition = (data[word] >= 16)\n",
    "step_1_condition = (spatial_condition & reading_condition)\n",
    "\n",
    "# Step 2\n",
    "nih_p = (data[flanker_p] < 16) | (data[card_p] < 16)\n",
    "#nih = (data[flanker] <= 85) | (data[card] <= 85)\n",
    "\n",
    "EF_condition = (nih_p) #| (nih)\n",
    "\n",
    "social_condition = (data[cbcl] >= 70) | (data[cbcl_pre] >= 70)\n",
    "math_condition = (data[num] <= 16)\n",
    "motor_condition = (data[peg] <= -0.800)\n",
    "step2_condition = ((social_condition.astype(int) + math_condition.astype(int) + EF_condition.astype(int) + motor_condition.astype(int)) >= 2)\n",
    "\n",
    "# Step 3\n",
    "asd_condition = (data[assq] < 19)\n",
    "step_3_condition = asd_condition"
   ]
  },
  {
   "cell_type": "code",
   "execution_count": 24,
   "id": "11a1d9ec",
   "metadata": {},
   "outputs": [
    {
     "name": "stdout",
     "output_type": "stream",
     "text": [
      "Only VCI-VSI > 15\n",
      "0.15243608297153882\n",
      "VCI-VSI > 15 and WIAT_Word_P > 16\n",
      "0.12662807525325614\n",
      "VCI-VSI > 15 and EF (Flanker or Card) < 16\n",
      "0.08007718282682104\n",
      "VCI-VSI > 15 and WIAT_Num_P <= 16\n",
      "0.02653159671972986\n",
      "VCI-VSI > 15 and CBCL SP T > 70\n",
      "0.015195369030390739\n"
     ]
    }
   ],
   "source": [
    "print(\"Only VCI-VSI > 15\")\n",
    "print(spatial_condition.value_counts()[True] / spatial_condition.value_counts().sum())\n",
    "print(\"VCI-VSI > 15 and WIAT_Word_P > 16\")\n",
    "print((spatial_condition & reading_condition).value_counts()[True] / (spatial_condition & reading_condition).value_counts().sum())\n",
    "print(\"VCI-VSI > 15 and EF (Flanker or Card) < 16\")\n",
    "print((spatial_condition & EF_condition).value_counts()[True] / (spatial_condition & EF_condition).value_counts().sum())\n",
    "print(\"VCI-VSI > 15 and WIAT_Num_P <= 16\")\n",
    "print((spatial_condition & math_condition).value_counts()[True] / (spatial_condition & math_condition).value_counts().sum())\n",
    "print(\"VCI-VSI > 15 and CBCL SP T > 70\")\n",
    "print((spatial_condition & social_condition).value_counts()[True] / (spatial_condition & social_condition).value_counts().sum())\n",
    "\n",
    "\n"
   ]
  },
  {
   "cell_type": "code",
   "execution_count": 14,
   "id": "2055ac18",
   "metadata": {},
   "outputs": [
    {
     "data": {
      "text/plain": [
       "False    2936\n",
       "True      299\n",
       "Name: NVLD, dtype: int64"
      ]
     },
     "execution_count": 14,
     "metadata": {},
     "output_type": "execute_result"
    }
   ],
   "source": [
    "data[\"NVLD\"] = step_1_condition & step2_condition & step_3_condition\n",
    "data[\"NVLD\"].value_counts()"
   ]
  },
  {
   "cell_type": "code",
   "execution_count": 15,
   "id": "881febcd",
   "metadata": {},
   "outputs": [
    {
     "data": {
      "text/plain": [
       "0.045775547920479595"
      ]
     },
     "execution_count": 15,
     "metadata": {},
     "output_type": "execute_result"
    }
   ],
   "source": [
    "# Correlation between NVLD and other PreInt_DevHx,skill_age_06\n",
    "data[\"PreInt_DevHx,skill_age_06\"] = data[\"PreInt_DevHx,skill_age_06\"].astype(float)\n",
    "\n",
    "data[\"PreInt_DevHx,skill_age_06\"].corr(data[\"NVLD\"])\n"
   ]
  },
  {
   "cell_type": "code",
   "execution_count": 28,
   "id": "829a581d",
   "metadata": {},
   "outputs": [
    {
     "name": "stdout",
     "output_type": "stream",
     "text": [
      "-1.528145579124579\n",
      "-0.07261860379384395\n",
      "8.302583025830259\n",
      "3.1625766871165646\n",
      "0.039606243980566114\n",
      "-0.07403985713887366\n",
      "-0.06389175044353447\n"
     ]
    }
   ],
   "source": [
    "# Print pegboard scores for NVLD and non-NVLD\n",
    "print(data[data[\"NVLD\"] == True][\"Pegboard,peg_z_d\"].mean())\n",
    "print(data[data[\"NVLD\"] == False][\"Pegboard,peg_z_d\"].mean())\n",
    "\n",
    "# Print data[wisc_vci] - data[wisc_fri] discrepancy means for NVLD and non-NVLD where columns are present\n",
    "data[\"FRI-VCI\"] = data[wisc_vci] - data[wisc_fri]\n",
    "print(data[data[\"NVLD\"] == True][\"FRI-VCI\"].mean(axis=0))\n",
    "print(data[data[\"NVLD\"] == False][\"FRI-VCI\"].mean(axis=0))\n",
    "\n",
    "# Correlation between discrepancy and PreInt_DevHx,skill_age_06\n",
    "print(data[\"FRI-VCI\"].corr(data[\"PreInt_DevHx,skill_age_06\"]))\n",
    "\n",
    "# Correlation between MR and PreInt_DevHx,skill_age_06 and between BD and PreInt_DevHx,skill_age_06\n",
    "print(data[wisc_mr].corr(data[\"PreInt_DevHx,skill_age_06\"]))\n",
    "print(data[wisc_bd].corr(data[\"PreInt_DevHx,skill_age_06\"]))"
   ]
  },
  {
   "cell_type": "code",
   "execution_count": null,
   "id": "0cff0d7d",
   "metadata": {},
   "outputs": [],
   "source": []
  }
 ],
 "metadata": {
  "kernelspec": {
   "display_name": "base",
   "language": "python",
   "name": "python3"
  },
  "language_info": {
   "codemirror_mode": {
    "name": "ipython",
    "version": 3
   },
   "file_extension": ".py",
   "mimetype": "text/x-python",
   "name": "python",
   "nbconvert_exporter": "python",
   "pygments_lexer": "ipython3",
   "version": "3.9.14"
  },
  "vscode": {
   "interpreter": {
    "hash": "74f680a7dcf9701b64f21de296be5e2eda3d583b29b5c2bc77ca039d54c2f0c9"
   }
  }
 },
 "nbformat": 4,
 "nbformat_minor": 5
}
